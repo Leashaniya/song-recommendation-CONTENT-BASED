{
 "cells": [
  {
   "cell_type": "code",
   "execution_count": 1,
   "id": "cbbdbef8-3faf-4feb-9346-d39cf3751bed",
   "metadata": {},
   "outputs": [],
   "source": [
    "import pandas as pd\n",
    "import nltk\n",
    "from nltk.stem.porter import PorterStemmer\n",
    "from sklearn.feature_extraction.text import TfidfVectorizer\n",
    "from sklearn.metrics.pairwise import cosine_similarity\n",
    "from sklearn.model_selection import train_test_split\n",
    "from sklearn.metrics import accuracy_score, mean_squared_error,precision_score\n",
    "import pickle"
   ]
  },
  {
   "cell_type": "code",
   "execution_count": 2,
   "id": "5284baba-7193-44dd-bb07-c71aebcdd70d",
   "metadata": {},
   "outputs": [],
   "source": [
    "# Load dataset\n",
    "df = pd.read_csv(\"spotify_millsongdata.csv\")"
   ]
  },
  {
   "cell_type": "code",
   "execution_count": 3,
   "id": "5b570883-18af-4e65-a3e8-248372fc8be1",
   "metadata": {},
   "outputs": [
    {
     "data": {
      "text/html": [
       "<div>\n",
       "<style scoped>\n",
       "    .dataframe tbody tr th:only-of-type {\n",
       "        vertical-align: middle;\n",
       "    }\n",
       "\n",
       "    .dataframe tbody tr th {\n",
       "        vertical-align: top;\n",
       "    }\n",
       "\n",
       "    .dataframe thead th {\n",
       "        text-align: right;\n",
       "    }\n",
       "</style>\n",
       "<table border=\"1\" class=\"dataframe\">\n",
       "  <thead>\n",
       "    <tr style=\"text-align: right;\">\n",
       "      <th></th>\n",
       "      <th>artist</th>\n",
       "      <th>song</th>\n",
       "      <th>link</th>\n",
       "      <th>text</th>\n",
       "    </tr>\n",
       "  </thead>\n",
       "  <tbody>\n",
       "    <tr>\n",
       "      <th>0</th>\n",
       "      <td>ABBA</td>\n",
       "      <td>Ahe's My Kind Of Girl</td>\n",
       "      <td>/a/abba/ahes+my+kind+of+girl_20598417.html</td>\n",
       "      <td>Look at her face, it's a wonderful face  \\r\\nA...</td>\n",
       "    </tr>\n",
       "    <tr>\n",
       "      <th>1</th>\n",
       "      <td>ABBA</td>\n",
       "      <td>Andante, Andante</td>\n",
       "      <td>/a/abba/andante+andante_20002708.html</td>\n",
       "      <td>Take it easy with me, please  \\r\\nTouch me gen...</td>\n",
       "    </tr>\n",
       "    <tr>\n",
       "      <th>2</th>\n",
       "      <td>ABBA</td>\n",
       "      <td>As Good As New</td>\n",
       "      <td>/a/abba/as+good+as+new_20003033.html</td>\n",
       "      <td>I'll never know why I had to go  \\r\\nWhy I had...</td>\n",
       "    </tr>\n",
       "    <tr>\n",
       "      <th>3</th>\n",
       "      <td>ABBA</td>\n",
       "      <td>Bang</td>\n",
       "      <td>/a/abba/bang_20598415.html</td>\n",
       "      <td>Making somebody happy is a question of give an...</td>\n",
       "    </tr>\n",
       "    <tr>\n",
       "      <th>4</th>\n",
       "      <td>ABBA</td>\n",
       "      <td>Bang-A-Boomerang</td>\n",
       "      <td>/a/abba/bang+a+boomerang_20002668.html</td>\n",
       "      <td>Making somebody happy is a question of give an...</td>\n",
       "    </tr>\n",
       "  </tbody>\n",
       "</table>\n",
       "</div>"
      ],
      "text/plain": [
       "  artist                   song                                        link  \\\n",
       "0   ABBA  Ahe's My Kind Of Girl  /a/abba/ahes+my+kind+of+girl_20598417.html   \n",
       "1   ABBA       Andante, Andante       /a/abba/andante+andante_20002708.html   \n",
       "2   ABBA         As Good As New        /a/abba/as+good+as+new_20003033.html   \n",
       "3   ABBA                   Bang                  /a/abba/bang_20598415.html   \n",
       "4   ABBA       Bang-A-Boomerang      /a/abba/bang+a+boomerang_20002668.html   \n",
       "\n",
       "                                                text  \n",
       "0  Look at her face, it's a wonderful face  \\r\\nA...  \n",
       "1  Take it easy with me, please  \\r\\nTouch me gen...  \n",
       "2  I'll never know why I had to go  \\r\\nWhy I had...  \n",
       "3  Making somebody happy is a question of give an...  \n",
       "4  Making somebody happy is a question of give an...  "
      ]
     },
     "execution_count": 3,
     "metadata": {},
     "output_type": "execute_result"
    }
   ],
   "source": [
    "df.head()"
   ]
  },
  {
   "cell_type": "code",
   "execution_count": 4,
   "id": "8bfe33ad-7dd4-4e3b-886a-e0e9f7513287",
   "metadata": {},
   "outputs": [
    {
     "data": {
      "text/html": [
       "<div>\n",
       "<style scoped>\n",
       "    .dataframe tbody tr th:only-of-type {\n",
       "        vertical-align: middle;\n",
       "    }\n",
       "\n",
       "    .dataframe tbody tr th {\n",
       "        vertical-align: top;\n",
       "    }\n",
       "\n",
       "    .dataframe thead th {\n",
       "        text-align: right;\n",
       "    }\n",
       "</style>\n",
       "<table border=\"1\" class=\"dataframe\">\n",
       "  <thead>\n",
       "    <tr style=\"text-align: right;\">\n",
       "      <th></th>\n",
       "      <th>artist</th>\n",
       "      <th>song</th>\n",
       "      <th>link</th>\n",
       "      <th>text</th>\n",
       "    </tr>\n",
       "  </thead>\n",
       "  <tbody>\n",
       "    <tr>\n",
       "      <th>57645</th>\n",
       "      <td>Ziggy Marley</td>\n",
       "      <td>Good Old Days</td>\n",
       "      <td>/z/ziggy+marley/good+old+days_10198588.html</td>\n",
       "      <td>Irie days come on play  \\r\\nLet the angels fly...</td>\n",
       "    </tr>\n",
       "    <tr>\n",
       "      <th>57646</th>\n",
       "      <td>Ziggy Marley</td>\n",
       "      <td>Hand To Mouth</td>\n",
       "      <td>/z/ziggy+marley/hand+to+mouth_20531167.html</td>\n",
       "      <td>Power to the workers  \\r\\nMore power  \\r\\nPowe...</td>\n",
       "    </tr>\n",
       "    <tr>\n",
       "      <th>57647</th>\n",
       "      <td>Zwan</td>\n",
       "      <td>Come With Me</td>\n",
       "      <td>/z/zwan/come+with+me_20148981.html</td>\n",
       "      <td>all you need  \\r\\nis something i'll believe  \\...</td>\n",
       "    </tr>\n",
       "    <tr>\n",
       "      <th>57648</th>\n",
       "      <td>Zwan</td>\n",
       "      <td>Desire</td>\n",
       "      <td>/z/zwan/desire_20148986.html</td>\n",
       "      <td>northern star  \\r\\nam i frightened  \\r\\nwhere ...</td>\n",
       "    </tr>\n",
       "    <tr>\n",
       "      <th>57649</th>\n",
       "      <td>Zwan</td>\n",
       "      <td>Heartsong</td>\n",
       "      <td>/z/zwan/heartsong_20148991.html</td>\n",
       "      <td>come in  \\r\\nmake yourself at home  \\r\\ni'm a ...</td>\n",
       "    </tr>\n",
       "  </tbody>\n",
       "</table>\n",
       "</div>"
      ],
      "text/plain": [
       "             artist           song  \\\n",
       "57645  Ziggy Marley  Good Old Days   \n",
       "57646  Ziggy Marley  Hand To Mouth   \n",
       "57647          Zwan   Come With Me   \n",
       "57648          Zwan         Desire   \n",
       "57649          Zwan      Heartsong   \n",
       "\n",
       "                                              link  \\\n",
       "57645  /z/ziggy+marley/good+old+days_10198588.html   \n",
       "57646  /z/ziggy+marley/hand+to+mouth_20531167.html   \n",
       "57647           /z/zwan/come+with+me_20148981.html   \n",
       "57648                 /z/zwan/desire_20148986.html   \n",
       "57649              /z/zwan/heartsong_20148991.html   \n",
       "\n",
       "                                                    text  \n",
       "57645  Irie days come on play  \\r\\nLet the angels fly...  \n",
       "57646  Power to the workers  \\r\\nMore power  \\r\\nPowe...  \n",
       "57647  all you need  \\r\\nis something i'll believe  \\...  \n",
       "57648  northern star  \\r\\nam i frightened  \\r\\nwhere ...  \n",
       "57649  come in  \\r\\nmake yourself at home  \\r\\ni'm a ...  "
      ]
     },
     "execution_count": 4,
     "metadata": {},
     "output_type": "execute_result"
    }
   ],
   "source": [
    "df.tail()"
   ]
  },
  {
   "cell_type": "code",
   "execution_count": 5,
   "id": "67b8c59f-5101-4121-9340-bf7dae5de9d9",
   "metadata": {},
   "outputs": [
    {
     "data": {
      "text/plain": [
       "(57650, 4)"
      ]
     },
     "execution_count": 5,
     "metadata": {},
     "output_type": "execute_result"
    }
   ],
   "source": [
    "df.shape"
   ]
  },
  {
   "cell_type": "code",
   "execution_count": 6,
   "id": "cdbc77c2-7b53-4d9f-8533-4a2885f60e93",
   "metadata": {},
   "outputs": [
    {
     "data": {
      "text/plain": [
       "artist    0\n",
       "song      0\n",
       "link      0\n",
       "text      0\n",
       "dtype: int64"
      ]
     },
     "execution_count": 6,
     "metadata": {},
     "output_type": "execute_result"
    }
   ],
   "source": [
    "df.isnull().sum()"
   ]
  },
  {
   "cell_type": "code",
   "execution_count": 7,
   "id": "ed205ce7-2cfe-4c41-b2c3-998a5ba979c2",
   "metadata": {},
   "outputs": [],
   "source": [
    "df = df.sample(5000).drop('link', axis=1).reset_index(drop=True)"
   ]
  },
  {
   "cell_type": "code",
   "execution_count": 8,
   "id": "f5644c21-6807-4302-8c43-7188f4481318",
   "metadata": {},
   "outputs": [
    {
     "data": {
      "text/html": [
       "<div>\n",
       "<style scoped>\n",
       "    .dataframe tbody tr th:only-of-type {\n",
       "        vertical-align: middle;\n",
       "    }\n",
       "\n",
       "    .dataframe tbody tr th {\n",
       "        vertical-align: top;\n",
       "    }\n",
       "\n",
       "    .dataframe thead th {\n",
       "        text-align: right;\n",
       "    }\n",
       "</style>\n",
       "<table border=\"1\" class=\"dataframe\">\n",
       "  <thead>\n",
       "    <tr style=\"text-align: right;\">\n",
       "      <th></th>\n",
       "      <th>artist</th>\n",
       "      <th>song</th>\n",
       "      <th>text</th>\n",
       "    </tr>\n",
       "  </thead>\n",
       "  <tbody>\n",
       "    <tr>\n",
       "      <th>0</th>\n",
       "      <td>The Monkees</td>\n",
       "      <td>If You Have The Time</td>\n",
       "      <td>If you have the time would you keep me in mind...</td>\n",
       "    </tr>\n",
       "    <tr>\n",
       "      <th>1</th>\n",
       "      <td>John Mellencamp</td>\n",
       "      <td>The Kind Of Fella I Am</td>\n",
       "      <td>Well I don't like it when I see your eyes dart...</td>\n",
       "    </tr>\n",
       "    <tr>\n",
       "      <th>2</th>\n",
       "      <td>Talking Heads</td>\n",
       "      <td>Heaven</td>\n",
       "      <td>Everyone is trying to get to the bar.  \\r\\nThe...</td>\n",
       "    </tr>\n",
       "    <tr>\n",
       "      <th>3</th>\n",
       "      <td>Emmylou Harris</td>\n",
       "      <td>If You Were A Bluebird</td>\n",
       "      <td>If you were a bluebird you'd be a sad one  \\r\\...</td>\n",
       "    </tr>\n",
       "    <tr>\n",
       "      <th>4</th>\n",
       "      <td>Kris Kristofferson</td>\n",
       "      <td>Killing Time</td>\n",
       "      <td>See that long line of people who keep standing...</td>\n",
       "    </tr>\n",
       "    <tr>\n",
       "      <th>5</th>\n",
       "      <td>Hanson</td>\n",
       "      <td>Great Divide</td>\n",
       "      <td>The earth is shaking under siege  \\r\\nAnd ever...</td>\n",
       "    </tr>\n",
       "    <tr>\n",
       "      <th>6</th>\n",
       "      <td>Phish</td>\n",
       "      <td>The Moma Dance</td>\n",
       "      <td>And all throughout I gaze and glimpse you  \\r\\...</td>\n",
       "    </tr>\n",
       "    <tr>\n",
       "      <th>7</th>\n",
       "      <td>Harry Connick, Jr.</td>\n",
       "      <td>Heavenly</td>\n",
       "      <td>He's always smiling  \\r\\nHe never looks mean  ...</td>\n",
       "    </tr>\n",
       "    <tr>\n",
       "      <th>8</th>\n",
       "      <td>Kris Kristofferson</td>\n",
       "      <td>Stranger</td>\n",
       "      <td>Maybe she was smilin' in the mirror  \\r\\nMaybe...</td>\n",
       "    </tr>\n",
       "    <tr>\n",
       "      <th>9</th>\n",
       "      <td>Kenny Rogers</td>\n",
       "      <td>Makes Me Wonder If I Ever Said Goodbye</td>\n",
       "      <td>Makes me wonder if I ever said goodbye  \\r\\nSh...</td>\n",
       "    </tr>\n",
       "  </tbody>\n",
       "</table>\n",
       "</div>"
      ],
      "text/plain": [
       "               artist                                    song  \\\n",
       "0         The Monkees                    If You Have The Time   \n",
       "1     John Mellencamp                  The Kind Of Fella I Am   \n",
       "2       Talking Heads                                  Heaven   \n",
       "3      Emmylou Harris                  If You Were A Bluebird   \n",
       "4  Kris Kristofferson                            Killing Time   \n",
       "5              Hanson                            Great Divide   \n",
       "6               Phish                          The Moma Dance   \n",
       "7  Harry Connick, Jr.                                Heavenly   \n",
       "8  Kris Kristofferson                                Stranger   \n",
       "9        Kenny Rogers  Makes Me Wonder If I Ever Said Goodbye   \n",
       "\n",
       "                                                text  \n",
       "0  If you have the time would you keep me in mind...  \n",
       "1  Well I don't like it when I see your eyes dart...  \n",
       "2  Everyone is trying to get to the bar.  \\r\\nThe...  \n",
       "3  If you were a bluebird you'd be a sad one  \\r\\...  \n",
       "4  See that long line of people who keep standing...  \n",
       "5  The earth is shaking under siege  \\r\\nAnd ever...  \n",
       "6  And all throughout I gaze and glimpse you  \\r\\...  \n",
       "7  He's always smiling  \\r\\nHe never looks mean  ...  \n",
       "8  Maybe she was smilin' in the mirror  \\r\\nMaybe...  \n",
       "9  Makes me wonder if I ever said goodbye  \\r\\nSh...  "
      ]
     },
     "execution_count": 8,
     "metadata": {},
     "output_type": "execute_result"
    }
   ],
   "source": [
    "df.head(10)"
   ]
  },
  {
   "cell_type": "markdown",
   "id": "1b8a64bd-c535-400c-baaf-aba7d789ab06",
   "metadata": {},
   "source": [
    "Text Cleaning/ Text Preprocessing"
   ]
  },
  {
   "cell_type": "code",
   "execution_count": 9,
   "id": "fffdde9b-dd9a-4c61-a36e-a10d461e8012",
   "metadata": {},
   "outputs": [],
   "source": [
    "# Lowercase the text and remove special characters\n",
    "df['text'] = df['text'].str.lower().replace(r'^\\w\\s', '').replace(r'\\n', ' ',regex = True)"
   ]
  },
  {
   "cell_type": "code",
   "execution_count": 10,
   "id": "f4e60446-79fb-4fc3-bd80-5122ce63c818",
   "metadata": {},
   "outputs": [],
   "source": [
    "# Stemming with NLTK\n",
    "stemmer = PorterStemmer()"
   ]
  },
  {
   "cell_type": "code",
   "execution_count": 11,
   "id": "51060d82-a3d3-4e04-beea-decf1a3dd71f",
   "metadata": {},
   "outputs": [],
   "source": [
    "# Tokenize function\n",
    "def token(text):\n",
    "    words = nltk.word_tokenize(text)\n",
    "    return \" \".join([stemmer.stem(word) for word in words])"
   ]
  },
  {
   "cell_type": "code",
   "execution_count": 12,
   "id": "f5edc35a-65fa-445d-9faa-f6a9cd220ee9",
   "metadata": {},
   "outputs": [
    {
     "data": {
      "text/plain": [
       "'you are beauti , beauti'"
      ]
     },
     "execution_count": 12,
     "metadata": {},
     "output_type": "execute_result"
    }
   ],
   "source": [
    "token(\"you are beautiful, beauty\")"
   ]
  },
  {
   "cell_type": "code",
   "execution_count": 13,
   "id": "d1f68d62-b879-492f-832e-6dc89139a673",
   "metadata": {},
   "outputs": [],
   "source": [
    "# Apply tokenization\n",
    "df['text'] = df['text'].apply(lambda x: token(x))"
   ]
  },
  {
   "cell_type": "code",
   "execution_count": 14,
   "id": "e0c52987-fca6-4f0b-bd5f-ed5338850c96",
   "metadata": {},
   "outputs": [],
   "source": [
    "# TF-IDF Vectorizer for text representation\n",
    "tfid = TfidfVectorizer(analyzer='word', stop_words='english')\n",
    "matrix = tfid.fit_transform(df['text'])"
   ]
  },
  {
   "cell_type": "code",
   "execution_count": 15,
   "id": "d5ce832c-8259-42d1-bf6c-8558c0e9a146",
   "metadata": {},
   "outputs": [],
   "source": [
    "# Cosine similarity matrix\n",
    "similar = cosine_similarity(matrix)"
   ]
  },
  {
   "cell_type": "markdown",
   "id": "09750d07-a166-4106-86e3-6d2c387e19aa",
   "metadata": {},
   "source": [
    "Recommender Function"
   ]
  },
  {
   "cell_type": "code",
   "execution_count": 16,
   "id": "d708e7ce-e945-4185-a727-538d5988b9c9",
   "metadata": {},
   "outputs": [],
   "source": [
    "def recommender(song_name):\n",
    "    # Check if the song exists in the dataset\n",
    "    if song_name not in df['song'].values:\n",
    "        return f\"Song '{song_name}' not found in the dataset.\"\n",
    "    \n",
    "    # Get the index of the song\n",
    "    idx = df[df['song'] == song_name].index[0]\n",
    "    \n",
    "    # Calculate the similarity distances for the song\n",
    "    distance = sorted(list(enumerate(similar[idx])), reverse=True, key=lambda x: x[1])\n",
    "    \n",
    "    # Recommend top 4 similar songs\n",
    "    song_recommendations = []\n",
    "    for s_id in distance[1:5]:  # Exclude the first one (it's the same song)\n",
    "        song_recommendations.append(df.iloc[s_id[0]].song)\n",
    "    \n",
    "    return song_recommendations"
   ]
  },
  {
   "cell_type": "code",
   "execution_count": 19,
   "id": "4e9fedf9-517f-4813-90c5-341eecf8f8c3",
   "metadata": {},
   "outputs": [
    {
     "name": "stdout",
     "output_type": "stream",
     "text": [
      "[\"I'll Never Smile Again\", 'Keep Smiling', 'Girl On The Moon', 'Smile Again']\n"
     ]
    }
   ],
   "source": [
    "print(recommender(\"Heavenly\"))"
   ]
  },
  {
   "cell_type": "code",
   "execution_count": 21,
   "id": "4a6ce930-d38a-4df5-ae86-9807fd6c2d47",
   "metadata": {},
   "outputs": [
    {
     "name": "stdout",
     "output_type": "stream",
     "text": [
      "['Ale', 'Stranger Within', 'The New Maybe', 'Stranger Than The Stranger On The Shore']\n"
     ]
    }
   ],
   "source": [
    "# Test the recommender system\n",
    "print(recommender(\"Stranger\"))"
   ]
  },
  {
   "cell_type": "code",
   "execution_count": 22,
   "id": "0cd9f267-e606-43cb-a3cc-4283262182c0",
   "metadata": {},
   "outputs": [],
   "source": [
    "pickle.dump(similar,open('similarity.pkl','wb'))\n",
    "pickle.dump(df,open('df.pkl','wb'))"
   ]
  },
  {
   "cell_type": "code",
   "execution_count": 23,
   "id": "d1e6c8c9-c1af-4b41-a4e4-9d17ca98fe78",
   "metadata": {},
   "outputs": [],
   "source": [
    "# Load saved models (for testing purposes)\n",
    "loaded_similarity = pickle.load(open(\"similarity.pkl\", \"rb\"))\n",
    "loaded_df = pickle.load(open(\"df.pkl\", \"rb\"))"
   ]
  },
  {
   "cell_type": "code",
   "execution_count": 24,
   "id": "690cc658-f641-4716-b9e9-e357e9cbc4cf",
   "metadata": {},
   "outputs": [
    {
     "name": "stdout",
     "output_type": "stream",
     "text": [
      "Accuracy for the recommendation system: 0.019\n"
     ]
    }
   ],
   "source": [
    "# Performance evaluation - Accuracy for recommendations\n",
    "def recommendation_accuracy():\n",
    "    # Splitting the dataset into train and test sets\n",
    "    train_data, test_data = train_test_split(df, test_size=0.2, random_state=42)\n",
    "    \n",
    "    predictions = []\n",
    "    actual = []\n",
    "    \n",
    "    for i in range(len(test_data)):\n",
    "        song_name = test_data.iloc[i]['song']\n",
    "        actual.append(song_name)  # Correct song is the actual value\n",
    "        try:\n",
    "            rec_songs = recommender(song_name)\n",
    "            predictions.append(rec_songs[0])  # Taking the first recommended song as the prediction\n",
    "        except:\n",
    "            predictions.append(song_name)  # If song not found, predict itself\n",
    "\n",
    "    # Calculate accuracy by comparing actual songs with predicted ones\n",
    "    correct_predictions = sum([1 for a, p in zip(actual, predictions) if a == p])\n",
    "    accuracy = correct_predictions / len(predictions)\n",
    "    \n",
    "    return accuracy\n",
    "\n",
    "# Calculate accuracy for the recommendation system\n",
    "accuracy_value = recommendation_accuracy()\n",
    "print(f\"Accuracy for the recommendation system: {accuracy_value}\")"
   ]
  },
  {
   "cell_type": "code",
   "execution_count": 26,
   "id": "326f05c3-108b-4e6b-82da-ad820e692b97",
   "metadata": {},
   "outputs": [
    {
     "name": "stdout",
     "output_type": "stream",
     "text": [
      "Precision@5 for the recommendation system: 0.027\n",
      "Mean Reciprocal Rank (MRR) for the recommendation system: 0.022166666666666668\n"
     ]
    }
   ],
   "source": [
    "from sklearn.model_selection import train_test_split\n",
    "import numpy as np\n",
    "\n",
    "def recommendation_metrics(k=5):\n",
    "    # Splitting the dataset into train and test sets\n",
    "    train_data, test_data = train_test_split(df, test_size=0.2, random_state=42)\n",
    "    \n",
    "    actual = []\n",
    "    predictions = []\n",
    "    \n",
    "    for i in range(len(test_data)):\n",
    "        song_name = test_data.iloc[i]['song']\n",
    "        actual.append(song_name)  # Actual song is the ground truth\n",
    "        \n",
    "        try:\n",
    "            rec_songs = recommender(song_name)  # Get a list of recommended songs\n",
    "            predictions.append(rec_songs[:k])   # Take the top K recommended songs\n",
    "        except:\n",
    "            predictions.append([song_name])  # If no recommendations, predict the song itself\n",
    "    \n",
    "    # Calculate Precision@K and MRR\n",
    "    precision_at_k = 0\n",
    "    mrr = 0\n",
    "    \n",
    "    for i in range(len(test_data)):\n",
    "        actual_song = actual[i]\n",
    "        predicted_songs = predictions[i]\n",
    "        \n",
    "        # Calculate Precision@K (whether actual song is in the top K recommendations)\n",
    "        if actual_song in predicted_songs:\n",
    "            precision_at_k += 1\n",
    "        \n",
    "        # Calculate MRR (reciprocal rank for the actual song)\n",
    "        if actual_song in predicted_songs:\n",
    "            rank = predicted_songs.index(actual_song) + 1  # Rank is 1-based\n",
    "            mrr += 1 / rank\n",
    "\n",
    "    # Normalize results\n",
    "    precision_at_k /= len(test_data)\n",
    "    mrr /= len(test_data)\n",
    "    \n",
    "    return precision_at_k, mrr\n",
    "\n",
    "# Calculate metrics for the recommendation system\n",
    "precision_value, mrr_value = recommendation_metrics(k=5)\n",
    "print(f\"Precision@5 for the recommendation system: {precision_value}\")\n",
    "print(f\"Mean Reciprocal Rank (MRR) for the recommendation system: {mrr_value}\")\n"
   ]
  },
  {
   "cell_type": "code",
   "execution_count": null,
   "id": "2a6f8f6f-e05f-4aeb-ad2c-221572caa391",
   "metadata": {},
   "outputs": [],
   "source": []
  }
 ],
 "metadata": {
  "kernelspec": {
   "display_name": "Python 3 (ipykernel)",
   "language": "python",
   "name": "python3"
  },
  "language_info": {
   "codemirror_mode": {
    "name": "ipython",
    "version": 3
   },
   "file_extension": ".py",
   "mimetype": "text/x-python",
   "name": "python",
   "nbconvert_exporter": "python",
   "pygments_lexer": "ipython3",
   "version": "3.12.1"
  }
 },
 "nbformat": 4,
 "nbformat_minor": 5
}
